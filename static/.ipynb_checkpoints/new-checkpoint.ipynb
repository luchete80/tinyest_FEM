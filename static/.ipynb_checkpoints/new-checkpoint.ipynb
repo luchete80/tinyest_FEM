{
 "cells": [
  {
   "cell_type": "markdown",
   "id": "deb19859-a60f-473e-a323-41534cdbf000",
   "metadata": {
    "jp-MarkdownHeadingCollapsed": true
   },
   "source": [
    "# IMG"
   ]
  },
  {
   "cell_type": "code",
   "execution_count": 2,
   "id": "7aa38405-93a1-4aad-a38d-501852011d02",
   "metadata": {},
   "outputs": [],
   "source": [
    "import numpy as np\n",
    "import matplotlib.pyplot as plt\n",
    "import matplotlib.tri as tri\n",
    "\n",
    "def plot_deformation_filled(node_coords, displacements, scale=100):\n",
    "    deformed_coords = node_coords + displacements.reshape(-1, 2) * scale\n",
    "    \n",
    "    plt.figure(figsize=(6, 6))\n",
    "\n",
    "    # Extract X and Y coordinates of deformed nodes\n",
    "    x_deformed = deformed_coords[:, 0]\n",
    "    y_deformed = deformed_coords[:, 1]\n",
    "\n",
    "    # Extract Y-displacements (color field)\n",
    "    y_displacements = displacements[1::2]  # Every second element (corresponding to Y direction)\n",
    "\n",
    "    # Define triangulation for filled contour\n",
    "    triang = tri.Triangulation(x_deformed, y_deformed)\n",
    "    \n",
    "    # Plot filled contour\n",
    "    #contour = plt.tricontourf(triang, y_displacements, cmap='coolwarm', levels=20)\n",
    "    contour = plt.tricontourf(triang, y_displacements, cmap='Spectral', levels=20)\n",
    "    plt.colorbar(contour, label=\"Y-Displacement Magnitude\")\n",
    "\n",
    "    # Overlay deformed mesh edges\n",
    "    plt.triplot(triang, 'k-', alpha=0.5)\n",
    "\n",
    "    # Label and show plot\n",
    "    plt.xlabel(\"X\")\n",
    "    plt.ylabel(\"Y\")\n",
    "    plt.title(\"Finite Element Deformation (Filled Contour of Y-Displacement)\")\n",
    "    plt.show()\n"
   ]
  },
  {
   "cell_type": "markdown",
   "id": "1501d2ff-c5e9-4858-987c-25f1db1dddc3",
   "metadata": {},
   "source": [
    "# FEM"
   ]
  },
  {
   "cell_type": "code",
   "execution_count": 9,
   "id": "23b998b4-6e90-42da-8262-153b95878371",
   "metadata": {},
   "outputs": [],
   "source": [
    "import numpy as np\n",
    "import matplotlib.pyplot as plt\n",
    "import matplotlib.tri as tri\n",
    "\n",
    "#xi = (1-xi)(1-eta) , (1+xi) (1-e), (1+x)(1+e), (1-x)(1+e)\n",
    "def shape_functions (xi, eta):\n",
    "    dNdX_.npzeros((2,4))\n",
    "    dNdX_[0,:] = np.array(0.25*[-(1-eta),(1-eta),(1+eta),-(1+e)])\n",
    "    dNdX_[1,:] = np.array([-(1-xi)/4, -(1+xi)/4, (1+xi)/4, (1-xi)/4])\n",
    "    return dNdX_\n",
    "\n",
    "# Btr x C x B\n"
   ]
  },
  {
   "cell_type": "code",
   "execution_count": null,
   "id": "ab2a1fec-7fd1-4dd9-a216-7c76702d40c0",
   "metadata": {},
   "outputs": [],
   "source": []
  },
  {
   "cell_type": "code",
   "execution_count": null,
   "id": "f3765ea1-7b42-4c3b-8428-1d8cef0f8276",
   "metadata": {},
   "outputs": [],
   "source": []
  }
 ],
 "metadata": {
  "kernelspec": {
   "display_name": "Python 3 (ipykernel)",
   "language": "python",
   "name": "python3"
  },
  "language_info": {
   "codemirror_mode": {
    "name": "ipython",
    "version": 3
   },
   "file_extension": ".py",
   "mimetype": "text/x-python",
   "name": "python",
   "nbconvert_exporter": "python",
   "pygments_lexer": "ipython3",
   "version": "3.10.12"
  }
 },
 "nbformat": 4,
 "nbformat_minor": 5
}
