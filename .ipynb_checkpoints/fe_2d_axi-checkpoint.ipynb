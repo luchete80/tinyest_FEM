{
 "cells": [
  {
   "cell_type": "code",
   "execution_count": 32,
   "id": "4166f221-4165-46e3-8748-a52c1089e962",
   "metadata": {},
   "outputs": [
    {
     "name": "stdout",
     "output_type": "stream",
     "text": [
      "The autoreload extension is already loaded. To reload it, use:\n",
      "  %reload_ext autoreload\n",
      "Domain!\n",
      "mat G 79230769230.76923\n",
      "Node count 9\n",
      "Allocating nodal, dim  2\n",
      "tot mass  78.50000000000001\n",
      "ELNOD [[4 5 8 7]\n",
      " [0 0 0 0]\n",
      " [0 0 0 0]\n",
      " [0 0 0 0]]\n",
      "1 1 1\n",
      "Generated 9 nodes\n",
      "[[0.   0.  ]\n",
      " [0.05 0.  ]\n",
      " [0.1  0.  ]\n",
      " [0.   0.05]\n",
      " [0.05 0.05]\n",
      " [0.1  0.05]\n",
      " [0.   0.1 ]\n",
      " [0.05 0.1 ]\n",
      " [0.1  0.1 ]]\n",
      "vel [[0. 0.]\n",
      " [0. 0.]\n",
      " [0. 0.]\n",
      " [0. 0.]\n",
      " [0. 0.]\n",
      " [0. 0.]\n",
      " [0. 0.]\n",
      " [0. 0.]\n",
      " [0. 0.]]\n",
      "NODAL  mass (FROM AVG):  8.722222222222223\n",
      "vel after bc [[ 0.  0.]\n",
      " [ 0.  0.]\n",
      " [ 0. -1.]\n",
      " [ 0. -1.]\n",
      " [ 0.  0.]\n",
      " [ 0.  0.]\n",
      " [ 0.  0.]\n",
      " [ 0.  0.]\n",
      " [ 0.  0.]]\n",
      "Time:  0.0\n"
     ]
    },
    {
     "ename": "LinAlgError",
     "evalue": "Singular matrix",
     "output_type": "error",
     "traceback": [
      "\u001b[1;31m---------------------------------------------------------------------------\u001b[0m",
      "\u001b[1;31mLinAlgError\u001b[0m                               Traceback (most recent call last)",
      "Cell \u001b[1;32mIn[32], line 30\u001b[0m\n\u001b[0;32m     28\u001b[0m tf \u001b[38;5;241m=\u001b[39m \u001b[38;5;241m1.0\u001b[39m\u001b[38;5;241m*\u001b[39mdt\n\u001b[0;32m     29\u001b[0m tf \u001b[38;5;241m=\u001b[39m \u001b[38;5;241m1.0e-3\u001b[39m\n\u001b[1;32m---> 30\u001b[0m \u001b[43mdom\u001b[49m\u001b[38;5;241;43m.\u001b[39;49m\u001b[43msolve\u001b[49m\u001b[43m(\u001b[49m\u001b[43mtf\u001b[49m\u001b[43m,\u001b[49m\u001b[43m \u001b[49m\u001b[43mdt\u001b[49m\u001b[43m)\u001b[49m\n",
      "File \u001b[1;32mD:\\Luciano\\Numerico\\tinyest_FEM\\fem.py:354\u001b[0m, in \u001b[0;36mDomain.solve\u001b[1;34m(self, tf, dt)\u001b[0m\n\u001b[0;32m    351\u001b[0m \u001b[38;5;28mself\u001b[39m\u001b[38;5;241m.\u001b[39ma[:,:] \u001b[38;5;241m=\u001b[39m \u001b[38;5;241m0.0\u001b[39m\n\u001b[0;32m    352\u001b[0m \u001b[38;5;28mself\u001b[39m\u001b[38;5;241m.\u001b[39mimpose_bc()\n\u001b[1;32m--> 354\u001b[0m \u001b[38;5;28;43mself\u001b[39;49m\u001b[38;5;241;43m.\u001b[39;49m\u001b[43mcalc_jacobian\u001b[49m\u001b[43m(\u001b[49m\u001b[43m)\u001b[49m\n\u001b[0;32m    355\u001b[0m \u001b[38;5;28mself\u001b[39m\u001b[38;5;241m.\u001b[39mcalc_vol()\n\u001b[0;32m    357\u001b[0m \u001b[38;5;28mself\u001b[39m\u001b[38;5;241m.\u001b[39mcalc_str_rate()\n",
      "File \u001b[1;32mD:\\Luciano\\Numerico\\tinyest_FEM\\fem.py:203\u001b[0m, in \u001b[0;36mDomain.calc_jacobian\u001b[1;34m(self)\u001b[0m\n\u001b[0;32m    201\u001b[0m \u001b[38;5;28mself\u001b[39m\u001b[38;5;241m.\u001b[39mdetJ[e,gp] \u001b[38;5;241m=\u001b[39m np\u001b[38;5;241m.\u001b[39mlinalg\u001b[38;5;241m.\u001b[39mdet(\u001b[38;5;28mself\u001b[39m\u001b[38;5;241m.\u001b[39mJ[gp])\n\u001b[0;32m    202\u001b[0m \u001b[38;5;66;03m# print(\"det J\\n\", detJ)\u001b[39;00m\n\u001b[1;32m--> 203\u001b[0m invJ \u001b[38;5;241m=\u001b[39m \u001b[43mnp\u001b[49m\u001b[38;5;241;43m.\u001b[39;49m\u001b[43mlinalg\u001b[49m\u001b[38;5;241;43m.\u001b[39;49m\u001b[43minv\u001b[49m\u001b[43m(\u001b[49m\u001b[38;5;28;43mself\u001b[39;49m\u001b[38;5;241;43m.\u001b[39;49m\u001b[43mJ\u001b[49m\u001b[43m[\u001b[49m\u001b[43mgp\u001b[49m\u001b[43m]\u001b[49m\u001b[43m)\u001b[49m\n\u001b[0;32m    204\u001b[0m \u001b[38;5;66;03m# print (\"invJ\", invJ)\u001b[39;00m\n\u001b[0;32m    205\u001b[0m \u001b[38;5;28mself\u001b[39m\u001b[38;5;241m.\u001b[39mdNdX[e,gp] \u001b[38;5;241m=\u001b[39m np\u001b[38;5;241m.\u001b[39mdot(invJ,dNdrs)\n",
      "File \u001b[1;32m<__array_function__ internals>:200\u001b[0m, in \u001b[0;36minv\u001b[1;34m(*args, **kwargs)\u001b[0m\n",
      "File \u001b[1;32m~\\AppData\\Local\\Programs\\Python\\Python311\\Lib\\site-packages\\numpy\\linalg\\linalg.py:538\u001b[0m, in \u001b[0;36minv\u001b[1;34m(a)\u001b[0m\n\u001b[0;32m    536\u001b[0m signature \u001b[38;5;241m=\u001b[39m \u001b[38;5;124m'\u001b[39m\u001b[38;5;124mD->D\u001b[39m\u001b[38;5;124m'\u001b[39m \u001b[38;5;28;01mif\u001b[39;00m isComplexType(t) \u001b[38;5;28;01melse\u001b[39;00m \u001b[38;5;124m'\u001b[39m\u001b[38;5;124md->d\u001b[39m\u001b[38;5;124m'\u001b[39m\n\u001b[0;32m    537\u001b[0m extobj \u001b[38;5;241m=\u001b[39m get_linalg_error_extobj(_raise_linalgerror_singular)\n\u001b[1;32m--> 538\u001b[0m ainv \u001b[38;5;241m=\u001b[39m \u001b[43m_umath_linalg\u001b[49m\u001b[38;5;241;43m.\u001b[39;49m\u001b[43minv\u001b[49m\u001b[43m(\u001b[49m\u001b[43ma\u001b[49m\u001b[43m,\u001b[49m\u001b[43m \u001b[49m\u001b[43msignature\u001b[49m\u001b[38;5;241;43m=\u001b[39;49m\u001b[43msignature\u001b[49m\u001b[43m,\u001b[49m\u001b[43m \u001b[49m\u001b[43mextobj\u001b[49m\u001b[38;5;241;43m=\u001b[39;49m\u001b[43mextobj\u001b[49m\u001b[43m)\u001b[49m\n\u001b[0;32m    539\u001b[0m \u001b[38;5;28;01mreturn\u001b[39;00m wrap(ainv\u001b[38;5;241m.\u001b[39mastype(result_t, copy\u001b[38;5;241m=\u001b[39m\u001b[38;5;28;01mFalse\u001b[39;00m))\n",
      "File \u001b[1;32m~\\AppData\\Local\\Programs\\Python\\Python311\\Lib\\site-packages\\numpy\\linalg\\linalg.py:89\u001b[0m, in \u001b[0;36m_raise_linalgerror_singular\u001b[1;34m(err, flag)\u001b[0m\n\u001b[0;32m     88\u001b[0m \u001b[38;5;28;01mdef\u001b[39;00m \u001b[38;5;21m_raise_linalgerror_singular\u001b[39m(err, flag):\n\u001b[1;32m---> 89\u001b[0m     \u001b[38;5;28;01mraise\u001b[39;00m LinAlgError(\u001b[38;5;124m\"\u001b[39m\u001b[38;5;124mSingular matrix\u001b[39m\u001b[38;5;124m\"\u001b[39m)\n",
      "\u001b[1;31mLinAlgError\u001b[0m: Singular matrix"
     ]
    }
   ],
   "source": [
    "#https://saturncloud.io/blog/jupyter-notebook-reload-module-a-comprehensive-guide/\n",
    "%load_ext autoreload\n",
    "%autoreload 2\n",
    "    \n",
    "import fem as fe\n",
    "import numpy as np\n",
    "\n",
    "dt = 0.8e-5\n",
    "\n",
    "dom = fe.Domain(True) #red_int\n",
    "dom.mat_E  = 206.e9 #PASS TO MAT CLASS.. \n",
    "dom.mat_nu = 0.3 #PASS TO MAT CLAS..\n",
    "dom.mat_rho = 7850.0\n",
    "\n",
    "dom.calcMatConst()\n",
    "\n",
    "#def addBoxLength(self, lx, ly, le):\n",
    "dom.addBoxLength(0.1,0.1,0.1)  #(self, ex, ey, ez):\n",
    "\n",
    "#AFTER CREATE\n",
    "dom.is_fix[0,:] = True\n",
    "dom.is_fix[1,1] = True\n",
    "\n",
    "dom.is_bcv[2:4,1] = True\n",
    "dom.bcv   [2:4,1] = -1.0\n",
    "\n",
    "print (\"vel\", dom.v)\n",
    "tf = 1.0*dt\n",
    "tf = 1.0e-3\n",
    "dom.solve(tf, dt)"
   ]
  },
  {
   "cell_type": "code",
   "execution_count": 28,
   "id": "23b998b4-6e90-42da-8262-153b95878371",
   "metadata": {},
   "outputs": [
    {
     "data": {
      "image/png": "[encoded data removed]",
      "text/plain": [
       "<Figure size 640x480 with 1 Axes>"
      ]
     },
     "metadata": {},
     "output_type": "display_data"
    }
   ],
   "source": [
    "import matplotlib.pyplot as plt\n",
    "x = np.arange(1, 10)\n",
    "y = x.reshape(-1, 1)\n",
    "h = x * y\n",
    "\n",
    "cs = plt.contourf(h, levels=[10, 30, 50],\n",
    "    colors=['#808080', '#A0A0A0', '#C0C0C0'], extend='both')\n",
    "cs.cmap.set_over('red')\n",
    "cs.cmap.set_under('blue')\n",
    "cs.changed()"
   ]
  },
  {
   "cell_type": "code",
   "execution_count": null,
   "id": "ab2a1fec-7fd1-4dd9-a216-7c76702d40c0",
   "metadata": {},
   "outputs": [],
   "source": []
  },
  {
   "cell_type": "code",
   "execution_count": null,
   "id": "f3765ea1-7b42-4c3b-8428-1d8cef0f8276",
   "metadata": {},
   "outputs": [],
   "source": []
  }
 ],
 "metadata": {
  "kernelspec": {
   "display_name": "Python 3 (ipykernel)",
   "language": "python",
   "name": "python3"
  },
  "language_info": {
   "codemirror_mode": {
    "name": "ipython",
    "version": 3
   },
   "file_extension": ".py",
   "mimetype": "text/x-python",
   "name": "python",
   "nbconvert_exporter": "python",
   "pygments_lexer": "ipython3",
   "version": "3.11.3"
  }
 },
 "nbformat": 4,
 "nbformat_minor": 5
}
